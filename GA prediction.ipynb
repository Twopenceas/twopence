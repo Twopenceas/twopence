{
 "cells": [
  {
   "cell_type": "code",
   "execution_count": 1,
   "metadata": {},
   "outputs": [],
   "source": [
    "import pandas as pd\n",
    "import re\n",
    "import json\n",
    "import time\n",
    "from pandas.io.json import json_normalize\n",
    "import plotly.plotly as py\n",
    "from plotly import tools\n",
    "import plotly.graph_objs as go"
   ]
  },
  {
   "cell_type": "code",
   "execution_count": 2,
   "metadata": {},
   "outputs": [],
   "source": [
    "url = r'D:\\DATA\\python files\\kaggle_kernel\\google_revenue_prediction\\train_v2.csv'\n",
    "url = re.sub(r'\\\\',r'/',url)"
   ]
  },
  {
   "cell_type": "code",
   "execution_count": 3,
   "metadata": {},
   "outputs": [],
   "source": [
    "def single2double(x):\n",
    "    x = re.sub(r'\\'',r'\"',x)\n",
    "    json.loads(x)\n",
    "    x = re.sub(r'\"',r'',x)\n",
    "    return x"
   ]
  },
  {
   "cell_type": "code",
   "execution_count": 4,
   "metadata": {},
   "outputs": [],
   "source": [
    "def load_df(csv_path= url , nrows=None):\n",
    "    starttime = time.time()\n",
    "    chunks = []\n",
    "    loop = True\n",
    "    chunk_size = 1000\n",
    "    \n",
    "    columns_use = ['channelGrouping',\n",
    "                    'customDimensions',\n",
    "                    'date',\n",
    "                    'device', \n",
    "                    'fullVisitorId',\n",
    "                    'geoNetwork',\n",
    "                    'socialEngagementType',\n",
    "                    'totals',\n",
    "                    'trafficSource',\n",
    "                    'visitId',\n",
    "                    'visitNumber',\n",
    "                    'visitStartTime']\n",
    "    data = pd.read_csv(csv_path,\n",
    "                       converters={'customDimensions':single2double,\n",
    "                                   'device':json.loads,\n",
    "                                   'geoNetwork':json.loads,\n",
    "                                   'totals':json.loads,\n",
    "                                   'trafficSource':json.loads},\n",
    "                       dtype={'fullVisitorId': 'str'},                                    \n",
    "                       usecols = columns_use,\n",
    "                       iterator =True)\n",
    "\n",
    "                      \n",
    "    while loop:\n",
    "        try:\n",
    "            chunk = data.get_chunk(chunk_size)\n",
    "            chunks.append(chunk)\n",
    "        except StopIteration:\n",
    "            loop = False\n",
    "            print('Iteration is stopped')   \n",
    "    sample = pd.concat(chunks,axis = 0)\n",
    "\n",
    "    time_use = time.time() - starttime\n",
    "    print(f'use {time_use}s')\n",
    "    return sample"
   ]
  },
  {
   "cell_type": "code",
   "execution_count": 5,
   "metadata": {},
   "outputs": [
    {
     "name": "stdout",
     "output_type": "stream",
     "text": [
      "Iteration is stopped\n",
      "use 154.50386214256287s\n"
     ]
    }
   ],
   "source": [
    "train = load_df()"
   ]
  },
  {
   "cell_type": "markdown",
   "metadata": {},
   "source": [
    "## 用json_normalize将json格式的列分开\n"
   ]
  },
  {
   "cell_type": "code",
   "execution_count": 6,
   "metadata": {},
   "outputs": [],
   "source": [
    "def json_split(df):\n",
    "    JSON_COLUMNS = ['device','geoNetwork','totals','trafficSource']\n",
    "    for column in JSON_COLUMNS:\n",
    "        columns_as_df = json_normalize(df[column].values.tolist())\n",
    "        columns_as_df.columns = [f\"{column}.{subcolumn}\" for subcolumn in columns_as_df.columns]\n",
    "        df = df.drop(column, axis=1).merge(columns_as_df, right_index=True, left_index=True)\n",
    "    return df"
   ]
  },
  {
   "cell_type": "code",
   "execution_count": 7,
   "metadata": {},
   "outputs": [
    {
     "data": {
      "text/plain": [
       "(1708337, 59)"
      ]
     },
     "execution_count": 7,
     "metadata": {},
     "output_type": "execute_result"
    }
   ],
   "source": [
    "train = json_split(train)\n",
    "train.shape"
   ]
  },
  {
   "cell_type": "markdown",
   "metadata": {},
   "source": [
    "## 将customDimensions列split，因为该列是字符串"
   ]
  },
  {
   "cell_type": "code",
   "execution_count": 8,
   "metadata": {},
   "outputs": [],
   "source": [
    "def customer(df):\n",
    "    starttime = time.time()\n",
    "    df.loc[df['customDimensions'] == '[]','customDimensions'] = '[{index: notknow, value: notknow}]'\n",
    "    df['customDimensions'] = df['customDimensions'].apply(lambda x: re.findall(r'(?<={).+(?=})',x)[0])\n",
    "    column_cus = df['customDimensions'].str.split(',',expand = True)\n",
    "    column_cus = column_cus.applymap(lambda x:re.findall(r'(?<=\\: ).+',x)[0])\n",
    "    column_cus.rename(columns = {0:'customDimensions_index',\n",
    "                                 1:'customDimensions_value'},\n",
    "                      inplace = True)\n",
    "    df = df.drop('customDimensions',axis = 1).merge(column_cus,\n",
    "                                                    right_index = True,\n",
    "                                                    left_index = True)\n",
    "    time_use = time.time() - starttime\n",
    "    print('use %ss'%time_use)\n",
    "    return df"
   ]
  },
  {
   "cell_type": "code",
   "execution_count": 9,
   "metadata": {},
   "outputs": [
    {
     "name": "stdout",
     "output_type": "stream",
     "text": [
      "use 21.762195110321045s\n"
     ]
    }
   ],
   "source": [
    "train = customer(train)"
   ]
  },
  {
   "cell_type": "markdown",
   "metadata": {},
   "source": [
    "## 删掉常数列"
   ]
  },
  {
   "cell_type": "code",
   "execution_count": 10,
   "metadata": {},
   "outputs": [],
   "source": [
    "def deleteconstant(df):\n",
    "    constantcol = [col for col in df.columns if df[col].nunique(dropna = False) == 1]\n",
    "    df.drop(constantcol,axis = 1,inplace = True)\n",
    "    print(f'the name of the features {constantcol}')\n",
    "    return df"
   ]
  },
  {
   "cell_type": "code",
   "execution_count": 11,
   "metadata": {},
   "outputs": [
    {
     "name": "stdout",
     "output_type": "stream",
     "text": [
      "the name of the features ['socialEngagementType', 'device.browserSize', 'device.browserVersion', 'device.flashVersion', 'device.language', 'device.mobileDeviceBranding', 'device.mobileDeviceInfo', 'device.mobileDeviceMarketingName', 'device.mobileDeviceModel', 'device.mobileInputSelector', 'device.operatingSystemVersion', 'device.screenColors', 'device.screenResolution', 'geoNetwork.cityId', 'geoNetwork.latitude', 'geoNetwork.longitude', 'geoNetwork.networkLocation', 'totals.visits', 'trafficSource.adwordsClickInfo.criteriaParameters']\n"
     ]
    },
    {
     "data": {
      "text/plain": [
       "(1708337, 41)"
      ]
     },
     "execution_count": 11,
     "metadata": {},
     "output_type": "execute_result"
    }
   ],
   "source": [
    "train = deleteconstant(train)\n",
    "train.shape"
   ]
  },
  {
   "cell_type": "code",
   "execution_count": 12,
   "metadata": {},
   "outputs": [],
   "source": [
    "train['totals.transactionRevenue'] = train['totals.transactionRevenue'].astype('float')"
   ]
  },
  {
   "cell_type": "markdown",
   "metadata": {},
   "source": [
    "## 观察数据"
   ]
  },
  {
   "cell_type": "code",
   "execution_count": 13,
   "metadata": {},
   "outputs": [],
   "source": [
    "tools.set_credentials_file(username='aptx4869', api_key='NngEVVmuAKzvMUSgAu4C')"
   ]
  },
  {
   "cell_type": "code",
   "execution_count": 14,
   "metadata": {},
   "outputs": [],
   "source": [
    "def horizontal_bar_chart(df,color):\n",
    "    trace = go.Bar(x = df.values[::-1],\n",
    "                   y = df.index[::-1],\n",
    "                   showlegend = False,\n",
    "                   orientation = 'h',\n",
    "                   marker = dict(color = color,\n",
    "                                 line = dict(color = 'rgba(58, 71, 80, 1.0)'))\n",
    "                   )\n",
    "    return trace"
   ]
  },
  {
   "cell_type": "code",
   "execution_count": 15,
   "metadata": {},
   "outputs": [],
   "source": [
    "device_columns = ['device.browser','device.deviceCategory','device.operatingSystem']\n",
    "colors = [['rgba(50, 171, 96, 0.6)']*3,['rgba(71, 58, 131, 0.8)']*3,['rgba(246, 78, 139, 0.6)']*3]\n",
    "traces = []"
   ]
  },
  {
   "cell_type": "code",
   "execution_count": 16,
   "metadata": {},
   "outputs": [],
   "source": [
    "for devicecol,barcolor in zip(device_columns,colors):\n",
    "    cnt_srs = train.groupby(devicecol)['totals.transactionRevenue'].agg(['size', 'count', 'mean'])\n",
    "    cnt_srs = cnt_srs.sort_values(by = 'count',ascending = False)\n",
    "    traces = traces +[horizontal_bar_chart(cnt_srs[column].head(5),color) for column,color in zip(cnt_srs.columns,barcolor)]\n"
   ]
  },
  {
   "cell_type": "code",
   "execution_count": 17,
   "metadata": {},
   "outputs": [
    {
     "name": "stdout",
     "output_type": "stream",
     "text": [
      "This is the format of your plot grid:\n",
      "[ (1,1) x1,y1 ]  [ (1,2) x2,y2 ]  [ (1,3) x3,y3 ]\n",
      "[ (2,1) x4,y4 ]  [ (2,2) x5,y5 ]  [ (2,3) x6,y6 ]\n",
      "[ (3,1) x7,y7 ]  [ (3,2) x8,y8 ]  [ (3,3) x9,y9 ]\n",
      "\n"
     ]
    }
   ],
   "source": [
    "fig = tools.make_subplots(rows = 3,\n",
    "                          cols =3,\n",
    "                          subplot_titles=[\"Device Browser - Count\", \"Device Browser - Non-zero Revenue Count\", \"Device Browser - Mean Revenue\",\n",
    "                                          \"Device Category - Count\",  \"Device Category - Non-zero Revenue Count\", \"Device Category - Mean Revenue\", \n",
    "                                          \"Device OS - Count\", \"Device OS - Non-zero Revenue Count\", \"Device OS - Mean Revenue\"])\n",
    "\n",
    "fig.append_trace(traces[0],1,1)\n",
    "fig.append_trace(traces[1],1,2)\n",
    "fig.append_trace(traces[2],1,3)\n",
    "fig.append_trace(traces[3],2,1)\n",
    "fig.append_trace(traces[4],2,2)\n",
    "fig.append_trace(traces[5],2,3)\n",
    "fig.append_trace(traces[6],3,1)\n",
    "fig.append_trace(traces[7],3,2)\n",
    "fig.append_trace(traces[8],3,3)\n",
    "\n",
    "fig['layout'].update(height = 1200,width = 1200,title = 'Device plots')"
   ]
  },
  {
   "cell_type": "code",
   "execution_count": 18,
   "metadata": {},
   "outputs": [
    {
     "data": {
      "text/html": [
       "<iframe id=\"igraph\" scrolling=\"no\" style=\"border:none;\" seamless=\"seamless\" src=\"https://plot.ly/~aptx4869/2.embed\" height=\"1200px\" width=\"1200px\"></iframe>"
      ],
      "text/plain": [
       "<plotly.tools.PlotlyDisplay object>"
      ]
     },
     "execution_count": 18,
     "metadata": {},
     "output_type": "execute_result"
    }
   ],
   "source": [
    "py.iplot(fig, filename='device-plots')"
   ]
  },
  {
   "cell_type": "code",
   "execution_count": 34,
   "metadata": {},
   "outputs": [
    {
     "name": "stdout",
     "output_type": "stream",
     "text": [
      "<class 'pandas.core.frame.DataFrame'>\n",
      "Int64Index: 1708337 entries, 0 to 1708336\n",
      "Data columns (total 41 columns):\n",
      "channelGrouping                                 object\n",
      "date                                            int64\n",
      "fullVisitorId                                   object\n",
      "visitId                                         int64\n",
      "visitNumber                                     int64\n",
      "visitStartTime                                  int64\n",
      "device.browser                                  object\n",
      "device.deviceCategory                           object\n",
      "device.isMobile                                 bool\n",
      "device.operatingSystem                          object\n",
      "geoNetwork.city                                 object\n",
      "geoNetwork.continent                            object\n",
      "geoNetwork.country                              object\n",
      "geoNetwork.metro                                object\n",
      "geoNetwork.networkDomain                        object\n",
      "geoNetwork.region                               object\n",
      "geoNetwork.subContinent                         object\n",
      "totals.bounces                                  object\n",
      "totals.hits                                     object\n",
      "totals.newVisits                                object\n",
      "totals.pageviews                                object\n",
      "totals.sessionQualityDim                        object\n",
      "totals.timeOnSite                               object\n",
      "totals.totalTransactionRevenue                  object\n",
      "totals.transactionRevenue                       float64\n",
      "totals.transactions                             object\n",
      "trafficSource.adContent                         object\n",
      "trafficSource.adwordsClickInfo.adNetworkType    object\n",
      "trafficSource.adwordsClickInfo.gclId            object\n",
      "trafficSource.adwordsClickInfo.isVideoAd        object\n",
      "trafficSource.adwordsClickInfo.page             object\n",
      "trafficSource.adwordsClickInfo.slot             object\n",
      "trafficSource.campaign                          object\n",
      "trafficSource.campaignCode                      object\n",
      "trafficSource.isTrueDirect                      object\n",
      "trafficSource.keyword                           object\n",
      "trafficSource.medium                            object\n",
      "trafficSource.referralPath                      object\n",
      "trafficSource.source                            object\n",
      "customDimensions_index                          object\n",
      "customDimensions_value                          object\n",
      "dtypes: bool(1), float64(1), int64(4), object(35)\n",
      "memory usage: 616.0+ MB\n"
     ]
    }
   ],
   "source": []
  },
  {
   "cell_type": "code",
   "execution_count": null,
   "metadata": {},
   "outputs": [],
   "source": []
  }
 ],
 "metadata": {
  "kernelspec": {
   "display_name": "Python 3",
   "language": "python",
   "name": "python3"
  },
  "language_info": {
   "codemirror_mode": {
    "name": "ipython",
    "version": 3
   },
   "file_extension": ".py",
   "mimetype": "text/x-python",
   "name": "python",
   "nbconvert_exporter": "python",
   "pygments_lexer": "ipython3",
   "version": "3.6.3"
  }
 },
 "nbformat": 4,
 "nbformat_minor": 2
}
